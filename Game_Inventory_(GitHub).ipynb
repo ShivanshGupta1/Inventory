{
  "nbformat": 4,
  "nbformat_minor": 0,
  "metadata": {
    "colab": {
      "name": "Game Inventory (GitHub).ipynb",
      "provenance": [],
      "authorship_tag": "ABX9TyOc7IGdkIR9G2jh9dXUQgcH",
      "include_colab_link": true
    },
    "kernelspec": {
      "name": "python3",
      "display_name": "Python 3"
    }
  },
  "cells": [
    {
      "cell_type": "markdown",
      "metadata": {
        "id": "view-in-github",
        "colab_type": "text"
      },
      "source": [
        "<a href=\"https://colab.research.google.com/github/ShivanshGupta1/Inventory/blob/main/Game_Inventory_(GitHub).ipynb\" target=\"_parent\"><img src=\"https://colab.research.google.com/assets/colab-badge.svg\" alt=\"Open In Colab\"/></a>"
      ]
    },
    {
      "cell_type": "code",
      "metadata": {
        "id": "MAC6XKEwsuV8"
      },
      "source": [
        "inventory = { #This inventory has all the items, inside the dictionary\n",
        "    'gold' : 500,\n",
        "    'pouch' : ['flint', 'twine', 'gemstone'],\n",
        "    'backpack' : ['xylophone','dagger', 'bedroll','bread loaf']\n",
        "}\n",
        "pocket = [\"seashell\",\"strange berry\",\"lint\"]; #This is a list for another key as its value\n",
        "inventory[\"pocket\"]=pocket; #This is where we are adding the key with the value in the dictionary\n",
        "inventory[\"backpack\"].sort() #This is where we are sorting the \"backpack\" key in the dictionary\n",
        "inventory[\"backpack\"].remove('dagger') #This is where we are removing a item from the list from the \"backpack\" key in the dictionary\n",
        "inventory[\"gold\"]=inventory[\"gold\"]+50;#This is where we are adding 50 to a prexisting key in the dictionary\n",
        "print(inventory);#This is where we are printing the dictionary"
      ],
      "execution_count": null,
      "outputs": []
    }
  ]
}